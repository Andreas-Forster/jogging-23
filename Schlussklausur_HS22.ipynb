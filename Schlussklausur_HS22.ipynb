{
 "cells": [
  {
   "cell_type": "markdown",
   "id": "5b18eea4",
   "metadata": {
    "deletable": false
   },
   "source": [
    "# Grundlagen der Programmierung  <br/> Abschlussklausur (Zweite Klausur)\n",
    "#### Marcel Lüthi, Andreas Morel-Forster <br/> Departement Mathematik und Informatik, Universität Basel"
   ]
  },
  {
   "cell_type": "markdown",
   "id": "47f475f6",
   "metadata": {
    "deletable": false
   },
   "source": [
    "## Personalien\n",
    "Bitte schreiben Sie in die folgende Zelle Ihren\n",
    "Vornamen,\n",
    "Name,\n",
    "und Ihre Matrikel-Nummer."
   ]
  },
  {
   "cell_type": "markdown",
   "id": "6499e495",
   "metadata": {
    "deletable": false
   },
   "source": [
    "- Vorname: \n",
    "- Name:\n",
    "- Matrikel-Nummer:"
   ]
  },
  {
   "cell_type": "markdown",
   "id": "f156ba87",
   "metadata": {
    "deletable": false
   },
   "source": [
    "##  Regeln\n",
    "- Sie haben 60 Minuten Zeit die Prüfung zu bearbeiten.\n",
    "- Bitte bleiben Sie bis zum Ablauf der Prüfungszeit sitzen.\n",
    "- Schauen Sie nur auf Ihren eigenen Bildschirm, gerade nach Vorne oder an die Decke.\n",
    "- Bei technischen Problemen, heben Sie die Hand und wir kommen bei Ihnen vorbei.\n",
    "- Ist etwas unklar? Schreiben Sie dies als Java Kommentar (Zeile mit `//` beginnen) in die Zelle für die Lösung."
   ]
  },
  {
   "cell_type": "markdown",
   "id": "d2d7bb01",
   "metadata": {
    "deletable": false
   },
   "source": [
    "## Übersetzungstool\n",
    "\n",
    "Sie dürfen das Übersetzungstool [DeepL](https://www.deepl.com/translator) verwenden."
   ]
  },
  {
   "cell_type": "markdown",
   "id": "e96ec31d",
   "metadata": {
    "deletable": false
   },
   "source": [
    "## Aufgabe 1 - Arrays [8 Punkte]\n",
    "\n",
    "Schreiben Sie eine Methode `convert`, welche ein Array von Strings entgegen nimmt und ein Array von ganzen Zahlen zurück gibt. Das zurückgegebene Array soll\n",
    "- als erstes Element die Summe der Längen aller Strings im übergebenen Array enthalten,\n",
    "- die restlichen Elemente sollen jeweils die Länge jedes einzelnen Strings im übergebenen Array enthalten.\n",
    "\n",
    "Beispiel: Für ein Array `{\"foo\", \"bazar\"}` soll ein Array `{8, 3, 5}` zurück gegeben werden."
   ]
  },
  {
   "cell_type": "code",
   "execution_count": null,
   "id": "14f661e1",
   "metadata": {
    "deletable": false,
    "exercise_id": 1
   },
   "outputs": [],
   "source": [
    "public class Converter {\n",
    "\n",
    "    // Ihre Lösung kommt hier hin ------\n",
    "    // =================================\n",
    "\n",
    "    public static void main(String[] args) {\n",
    "        String[] words = {\"foo\", \"bazar\"};\n",
    "        System.out.println(Arrays.toString(convert(words)));\n",
    "    }\n",
    "}"
   ]
  },
  {
   "cell_type": "code",
   "execution_count": null,
   "id": "d00f1a9b",
   "metadata": {
    "deletable": false
   },
   "outputs": [],
   "source": [
    "Converter.main(new String[0]);"
   ]
  },
  {
   "cell_type": "markdown",
   "id": "733d439d",
   "metadata": {
    "deletable": false
   },
   "source": [
    "## Aufgabe 2 - Daten speichern [6 Punkte]\n",
    "\n",
    "Implementieren Sie eine öffentliche Klasse `Movie` welche ein Film pro Instanz speichert. Eine Instanz soll folgende Felder besitzen:\n",
    "- Ein Title `title`\n",
    "- Die Dauer `duration` des Films in Stunden, so genau wie möglich\n",
    "\n",
    "Zusätlich soll die Klasse\n",
    "- Einen Konstruktor implementieren um die Felder zu setzen.\n",
    "- In einer Klassenvariable `movieCounter` zählen wieviele Objekte schon erstellt wurden."
   ]
  },
  {
   "cell_type": "code",
   "execution_count": null,
   "id": "562018ab",
   "metadata": {
    "deletable": false,
    "exercise_id": 2
   },
   "outputs": [],
   "source": [
    "// Ihre Lösung kommt hier hin ------\n",
    "// =================================\n",
    "\n",
    "class TestMovieClass {\n",
    "    public static void main(String[] args) {\n",
    "        Movie m1 = new Movie(\"Der Anfang\", 3.4);\n",
    "        Movie m2 = new Movie(\"Das Ende\", 7.4);\n",
    "        System.out.println(\"Instanzen \" + Movie.movieCounter);\n",
    "    }\n",
    "}"
   ]
  },
  {
   "cell_type": "code",
   "execution_count": null,
   "id": "7f10d514",
   "metadata": {
    "deletable": false
   },
   "outputs": [],
   "source": [
    "TestMovieClass.main(new String[0]);"
   ]
  },
  {
   "cell_type": "markdown",
   "id": "8a571afa",
   "metadata": {
    "deletable": false
   },
   "source": [
    "## Aufgabe 3 - Komplexe Zahlen [8 Punkte]\n",
    "\n",
    "Hinweis: Sie müssen die komplexe Zahlen nicht kennen oder vollständig verstehen um die Aufgabe zu lösen. Sie können sich vorstellen, dass eine komplexe Zahl aus zwei Gleitkommazahlen besteht die wie bei Koordinaten miteinander verbunden sind.\n",
    "\n",
    "Eine komplexe Zahl ist eine Zahl der Form $a+bi$, wobei $a$ der *real*-Teil und $b$ der *imaginär*-Teil ist. Der *imaginär-*Teil ist jeweils mit dem $i$ gekennzeichnet. \n",
    "\n",
    "Hier sollen Sie die Methode `multiply` als *inplace*-Multiplikation zweier komplexen Zahlen implementieren. *inplace* bedeutet, dass das Objekt auf dem die Methode `multiply` aufgerufen wird verändert wird, und kein neues Objekt zurück gegeben wird.\n",
    "\n",
    "Die Rechenregel für die Multiplikation zweier komplexer Zahlen $a+bi$ und $c+di$ ist:\n",
    "<p>$(a+bi)(c+di)=(ac−bd)+(ad+bc)i$</p>\n",
    "\n",
    "Daraus folgt,\n",
    "- der neue *real-*Teil ist $ac-bd$ .\n",
    "- der neue *imaginär-*Teil ist $ac+bd$ ."
   ]
  },
  {
   "cell_type": "code",
   "execution_count": null,
   "id": "b8138c14",
   "metadata": {
    "deletable": false,
    "exercise_id": 3
   },
   "outputs": [],
   "source": [
    "public class Complex {\n",
    "\n",
    "    double real;\n",
    "    double imag;\n",
    "    \n",
    "    // Ihre Lösung kommt hier hin ------\n",
    "    // =================================\n",
    "    \n",
    "    public static void main(String[] args) {\n",
    "        Complex c1 = new Complex(); c1.real = 1.0; c1.imag = 2.0;\n",
    "        Complex c2 = new Complex(); c2.real = 3.0; c2.imag = 4.0;\n",
    "        c1.multiply(c2);\n",
    "        System.out.println(\"c1(\" + c1.real + \"/\" + c1.imag + \") sollte (-5.0,10.0) sein\");\n",
    "    }\n",
    "}"
   ]
  },
  {
   "cell_type": "code",
   "execution_count": null,
   "id": "0197e2c5",
   "metadata": {
    "deletable": false
   },
   "outputs": [],
   "source": [
    "Complex.main(new String[0]);"
   ]
  },
  {
   "cell_type": "markdown",
   "id": "48d1ff61",
   "metadata": {
    "deletable": false
   },
   "source": [
    "## Aufgabe 4 - Vererbung [10 Punkte]\n",
    "\n",
    "Gegeben ist die unten gezeigte Klasse `Game`, welche ein Spiel repräsentiert. Leiten Sie eine neue Klasse `CoopGame` von dieser Klasse ab, um kooperative Spiele zu repräsentieren.\n",
    "\n",
    "Dabei soll die neue Klasse folgende Eigenschaften haben:\n",
    "- Die Klasse soll ein Feld `players` für die Anzahl Spieler haben.\n",
    "- Der Konstruktor soll den Titel und die Anzahl Spieler als Parameter haben.\n",
    "- Die Methode `genre` soll `\"CoopGame\"` zurück geben.\n",
    "\n",
    "Um die Klasse zu testen, dürfen Sie eine `main`-Methode schreiben, diese ist jedoch nicht verlangt und wird nicht bewertet."
   ]
  },
  {
   "cell_type": "code",
   "execution_count": null,
   "id": "149336f7",
   "metadata": {
    "deletable": false,
    "exercise_id": 4
   },
   "outputs": [],
   "source": [
    "abstract class Game {\n",
    "    String title;\n",
    "\n",
    "    public Game(String title) {\n",
    "        this.title = title;\n",
    "    }\n",
    "    \n",
    "    public String genre() {\n",
    "        return \"a game\";\n",
    "    }\n",
    "}\n",
    "\n",
    "// Ihre Lösung kommt hier hin ------\n",
    "// ================================="
   ]
  },
  {
   "cell_type": "code",
   "execution_count": null,
   "id": "99eb4241",
   "metadata": {
    "deletable": false
   },
   "outputs": [],
   "source": [
    "CoopGame.main(new String[0]);"
   ]
  },
  {
   "cell_type": "markdown",
   "id": "2dbf5631",
   "metadata": {
    "deletable": false
   },
   "source": [
    "## Aufgabe 5 - Threads [10 Punkte]\n",
    "\n",
    "Die unten angegebene Klasse `MyCountdown` gibt die Zahlen von einem gegebenen Wert `start` bis und mit 0 auf die Konsole aus. Dann wird `\"Done!\"` ausgegeben, wenn alle Zahlen ausgegeben wurden.\n",
    "\n",
    "Ändern Sie das Programm wie folgt ab:\n",
    "- Passen Sie die Klasse und die `main`-Methode so an, dass die Zahlen in einem eigenen Thread ausgegeben werden.\n",
    "- Der Thread soll die Zahl übergeben bekommen von welcher gestartet werden soll.\n",
    "- Weiterhin soll in der `main`-Methode `\"Done!\"` ausgegeben werden, nachdem alle Zahlen ausgegeben sind.\n",
    "\n",
    "Ein Auszug von Methoden der Klasse Thread sind:\n",
    "- `long getId()`\n",
    "- `Thread.State getState()`\n",
    "- `final void join()`\n",
    "- `void run()`\n",
    "- `void start()`\n",
    "- `void stop()`"
   ]
  },
  {
   "cell_type": "code",
   "execution_count": null,
   "id": "3a3695b5",
   "metadata": {
    "deletable": false,
    "exercise_id": 5
   },
   "outputs": [],
   "source": [
    "// Ihre Lösung kommt hier hin ------\n",
    "public class MyCountdown {\n",
    "    \n",
    "    public static void main(String[] args) {\n",
    "        int start = 7;\n",
    "        for(int i = start; i >= 0; i--) {\n",
    "            System.out.println(i);\n",
    "        }\n",
    "        System.out.println(\"Done!\");\n",
    "    }\n",
    "    \n",
    "}\n",
    "// ================================="
   ]
  },
  {
   "cell_type": "code",
   "execution_count": null,
   "id": "675dc68e",
   "metadata": {
    "deletable": false
   },
   "outputs": [],
   "source": [
    "MyCountdown.main(new String[0]);"
   ]
  },
  {
   "cell_type": "markdown",
   "id": "bcd73056",
   "metadata": {
    "deletable": false
   },
   "source": [
    "## Aufgabe 6 - Ausnahmen [10 Punkte]\n",
    "\n",
    "Gegeben ist die folgende Klasse `Calculator`. Passen Sie diese wie folgt an:\n",
    "\n",
    "- In der Methode `divide` soll eine `ArithmeticException` mit einer angepassten Nachricht geworfen werden, wenn durch 0 geteilt werden sollte.\n",
    "- In der Methode `saveRatio` soll die Ausnahme behandelt werden, wobei im Fehlerfall für `ratio` der Wert 1 gesetzt wird."
   ]
  },
  {
   "cell_type": "code",
   "execution_count": null,
   "id": "74f4e12f",
   "metadata": {
    "deletable": false,
    "exercise_id": 6
   },
   "outputs": [],
   "source": [
    "public class Calculator {\n",
    "\n",
    "    \n",
    "    // Ihre Lösung kommt hier hin ------\n",
    "    public static double divide(double a, double b) {\n",
    "        return a / b;\n",
    "    }\n",
    "    \n",
    "    public static double saveRatio(double a, double b) {\n",
    "        double ratio = divide(a,b);\n",
    "        return ratio;\n",
    "    }\n",
    "    // =================================\n",
    "\n",
    "    public static void main(String[] args) {\n",
    "        System.out.println(saveRatio(3,4));\n",
    "        System.out.println(saveRatio(0,4));\n",
    "        System.out.println(saveRatio(3,0));\n",
    "    }\n",
    "}"
   ]
  },
  {
   "cell_type": "code",
   "execution_count": null,
   "id": "92c87b51",
   "metadata": {
    "deletable": false
   },
   "outputs": [],
   "source": [
    "Calculator.main(new String[0]);"
   ]
  },
  {
   "cell_type": "markdown",
   "id": "5f9e946a",
   "metadata": {
    "deletable": false
   },
   "source": [
    "## Aufgabe Bonus - Objektorientierung [12 Punkte]\n",
    "\n",
    "Ziel ist es ein gut strukturiertes Programm zu schreiben. Versuchen Sie sinnvolle, nicht zu grosse Methoden zu programmieren.\n",
    "\n",
    "Erstellen Sie eine Klasse namens `Coin`, die Münzen darstellt. Jede Münze soll folgende Eigenschaften besitzen:\n",
    "- Einen Wert als ganze Zahl\n",
    "- Eine Währung als Text\n",
    "\n",
    "Erstellen Sie eine Klasse `Pirate`, welche ein Pirat mit folgenden eigenschaften repräsentieren soll\n",
    "- Ein Pirat hat Münzen in seinem Schatz.\n",
    "- Wird ein Pirat erstellt, gibt man die Anzahl Münzen und die Währung an.\n",
    "- Während der Konstruktion soll der Schatz mit der angegebenen Anzahl Münzen erstellt werden. Jede Münze erhält dabei einen zufälligen Wert von 1 bis und mit 9 sowie die angegebene Währung.\n",
    "- Der Schatz des Piraten soll auf die Konsole ausgegeben werden können. Dazu werden die einzelnen Münzen und der Gesmatbetrag ausgegeben.\n",
    "- Piraten können andere Piraten angreifen und kämpfen.\n",
    "- Bei einem Kampf ziehen beide Piraten zufällig eine Münze aus Ihrem Schatz. Hat der Angreifen die tiefere Münze gezogen, tauschen Sie die Münzen.\n",
    "\n",
    "Erstellen Sie eine `main`-Methode mit 2 Piraten die mindestens einmal gegeneinander kämpfen und geben Sie die Schätze der Piraten vor und nach dem Kampf auf die Konsole aus.\n",
    "\n",
    "Folgende Methoden könnten unteranderem nützlich sein:\n",
    "- `Math.random()` erzeugt eine zufällige Zahl von und mit 0 bis und ohne 1.\n",
    "- `Math.ceil()` rundet eine Zahl auf, auf  die nächst grössere ganze Zahl.\n",
    "- `Math.floor()` rundet eine Zahl ab, auf die nächst kleinere ganze Zahl."
   ]
  },
  {
   "cell_type": "code",
   "execution_count": null,
   "id": "f9690421",
   "metadata": {
    "deletable": false,
    "exercise_id": 7
   },
   "outputs": [],
   "source": [
    "// Ihre Lösung kommt hier hin ------\n",
    "// ================================="
   ]
  },
  {
   "cell_type": "code",
   "execution_count": null,
   "id": "4615996f",
   "metadata": {
    "deletable": false
   },
   "outputs": [],
   "source": [
    "Pirate.main(new String[0]);"
   ]
  }
 ],
 "metadata": {
  "celltoolbar": "Edit Metadata",
  "exercise_series": "gdp",
  "kernelspec": {
   "display_name": "Java",
   "language": "java",
   "name": "java"
  },
  "language_info": {
   "codemirror_mode": "java",
   "file_extension": ".jshell",
   "mimetype": "text/x-java-source",
   "name": "Java",
   "pygments_lexer": "java",
   "version": "17.0.4+8-jvmci-22.2-b06"
  },
  "notebook_id": 130
 },
 "nbformat": 4,
 "nbformat_minor": 5
}
